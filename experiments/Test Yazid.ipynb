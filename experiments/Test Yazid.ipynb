{
 "cells": [
  {
   "cell_type": "code",
   "execution_count": 1,
   "id": "canadian-pasta",
   "metadata": {},
   "outputs": [
    {
     "ename": "ImportError",
     "evalue": "cannot import name 'NDR' from 'models' (c:\\users\\elouan\\pycharmprojects\\neural-density-ratio\\venv\\lib\\site-packages\\models\\__init__.py)",
     "output_type": "error",
     "traceback": [
      "\u001b[1;31m---------------------------------------------------------------------------\u001b[0m",
      "\u001b[1;31mImportError\u001b[0m                               Traceback (most recent call last)",
      "\u001b[1;32m~\\AppData\\Local\\Temp/ipykernel_12896/1884115340.py\u001b[0m in \u001b[0;36m<module>\u001b[1;34m\u001b[0m\n\u001b[0;32m      4\u001b[0m \u001b[0mget_ipython\u001b[0m\u001b[1;33m(\u001b[0m\u001b[1;33m)\u001b[0m\u001b[1;33m.\u001b[0m\u001b[0mrun_line_magic\u001b[0m\u001b[1;33m(\u001b[0m\u001b[1;34m'autoreload'\u001b[0m\u001b[1;33m,\u001b[0m \u001b[1;34m'2'\u001b[0m\u001b[1;33m)\u001b[0m\u001b[1;33m\u001b[0m\u001b[1;33m\u001b[0m\u001b[0m\n\u001b[0;32m      5\u001b[0m \u001b[1;32mfrom\u001b[0m \u001b[0mtargets\u001b[0m\u001b[1;33m.\u001b[0m\u001b[0mdensity_estimation_target\u001b[0m \u001b[1;32mimport\u001b[0m \u001b[1;33m*\u001b[0m\u001b[1;33m\u001b[0m\u001b[1;33m\u001b[0m\u001b[0m\n\u001b[1;32m----> 6\u001b[1;33m \u001b[1;32mfrom\u001b[0m \u001b[0mmodels\u001b[0m \u001b[1;32mimport\u001b[0m \u001b[0mNDR\u001b[0m\u001b[1;33m\u001b[0m\u001b[1;33m\u001b[0m\u001b[0m\n\u001b[0m\u001b[0;32m      7\u001b[0m \u001b[1;32mimport\u001b[0m \u001b[0mtorch\u001b[0m\u001b[1;33m\u001b[0m\u001b[1;33m\u001b[0m\u001b[0m\n\u001b[0;32m      8\u001b[0m \u001b[1;32mimport\u001b[0m \u001b[0mmatplotlib\u001b[0m\u001b[1;33m.\u001b[0m\u001b[0mpyplot\u001b[0m \u001b[1;32mas\u001b[0m \u001b[0mplt\u001b[0m\u001b[1;33m\u001b[0m\u001b[1;33m\u001b[0m\u001b[0m\n",
      "\u001b[1;31mImportError\u001b[0m: cannot import name 'NDR' from 'models' (c:\\users\\elouan\\pycharmprojects\\neural-density-ratio\\venv\\lib\\site-packages\\models\\__init__.py)"
     ]
    }
   ],
   "source": [
    "import sys\n",
    "sys.path.append('..')\n",
    "%load_ext autoreload\n",
    "%autoreload 2\n",
    "from targets.density_estimation_target import *\n",
    "import torch\n",
    "import matplotlib.pyplot as plt"
   ]
  },
  {
   "cell_type": "code",
   "execution_count": 11,
   "id": "c1e3848a",
   "metadata": {},
   "outputs": [],
   "source": [
    "import torch\n",
    "from torch import nn\n",
    "from tqdm import tqdm\n",
    "\n",
    "class NDR(nn.Module):\n",
    "    def __init__(self, target_samples_1, target_samples_2, hidden_dims):\n",
    "        super().__init__()\n",
    "\n",
    "        self.target_samples_1 = target_samples_1\n",
    "        self.target_samples_2 = target_samples_2\n",
    "        self.p = target_samples_1.shape[-1]\n",
    "\n",
    "        network_dimensions = [self.p] + hidden_dims + [1]\n",
    "        network = []\n",
    "        for h0, h1 in zip(network_dimensions, network_dimensions[1:]):\n",
    "            network.extend([nn.Linear(h0, h1), nn.SiLU(), ])\n",
    "        network.pop()\n",
    "        self.logit_r = nn.Sequential(*network)\n",
    "\n",
    "        self.loss_values=[]\n",
    "\n",
    "    def loss(self, X,Y):\n",
    "        log_sigmoid = torch.nn.LogSigmoid()\n",
    "        return -torch.mean(log_sigmoid(self.logit_r(X))+log_sigmoid(-self.logit_r(Y)))\n",
    "\n",
    "    def train(self, epochs):\n",
    "        self.para_list = list(self.parameters())\n",
    "\n",
    "        self.optimizer = torch.optim.Adam(self.para_list, lr=5e-3)\n",
    "\n",
    "        device = torch.device('cuda' if torch.cuda.is_available() else 'cpu')\n",
    "        self.to(device)\n",
    "        X = self.target_samples_1.to(device)\n",
    "        Y = self.target_samples_2.to(device)\n",
    "\n",
    "        pbar = tqdm(range(epochs))\n",
    "        for t in pbar:\n",
    "            self.optimizer.zero_grad()\n",
    "            batch_loss = self.loss(X,Y)\n",
    "            batch_loss.backward()\n",
    "            self.optimizer.step()\n",
    "            with torch.no_grad():\n",
    "                iteration_loss = torch.tensor(self.loss(X,Y)).item()\n",
    "            self.loss_values.append(iteration_loss)\n",
    "            pbar.set_postfix_str('loss = ' + str(round(iteration_loss,6)))\n",
    "        self.to(torch.device('cpu'))"
   ]
  },
  {
   "cell_type": "code",
   "execution_count": 25,
   "id": "commercial-coral",
   "metadata": {},
   "outputs": [
    {
     "data": {
      "image/png": "[encoded data removed]",
      "text/plain": [
       "<Figure size 432x288 with 1 Axes>"
      ]
     },
     "metadata": {
      "needs_background": "light"
     },
     "output_type": "display_data"
    }
   ],
   "source": [
    "samples_1 = torch.randn(5000).unsqueeze(-1)\n",
    "samples_1 = samples_1 + 10*torch.ones_like(samples_1)\n",
    "samples_1_prime = torch.randn(5000).unsqueeze(-1)\n",
    "samples_1_prime = samples_1_prime - 10*torch.ones_like(samples_1_prime)\n",
    "samples_1 = torch.cat([samples_1, samples_1_prime], dim = 0)\n",
    "plt.hist(samples_1.numpy(), color = 'blue',bins =150, density = True, alpha = .5)\n",
    "\n",
    "samples_2 = torch.randn(10000).unsqueeze(-1)\n",
    "samples_2 = samples_2 - 10*torch.ones_like(samples_2)\n",
    "plt.hist(samples_2.numpy(),color = 'red', bins =150, density = True, alpha = .5)\n",
    "plt.show()"
   ]
  },
  {
   "cell_type": "code",
   "execution_count": 26,
   "id": "80c612ca",
   "metadata": {},
   "outputs": [
    {
     "name": "stderr",
     "output_type": "stream",
     "text": [
      "  0%|                                                                                                                                                                                                            | 0/1000 [00:00<?, ?it/s]C:\\Users\\Elouan\\AppData\\Local\\Temp/ipykernel_12896/2965183039.py:43: UserWarning: To copy construct from a tensor, it is recommended to use sourceTensor.clone().detach() or sourceTensor.clone().detach().requires_grad_(True), rather than torch.tensor(sourceTensor).\n",
      "  iteration_loss = torch.tensor(self.loss(X,Y)).item()\n",
      "100%|████████████████████████████████████████████████████████████████████████████████████████████████████████████████████████████████████████████████████████████████████████████████| 1000/1000 [00:52<00:00, 19.14it/s, loss = 0.954209]\n"
     ]
    }
   ],
   "source": [
    "ndr = NDR(samples_1, samples_2, [64,64,64])\n",
    "ndr.train(1000)"
   ]
  },
  {
   "cell_type": "code",
   "execution_count": 29,
   "id": "bfb796b3",
   "metadata": {},
   "outputs": [
    {
     "data": {
      "text/plain": [
       "[<matplotlib.lines.Line2D at 0x2ba277ec460>]"
      ]
     },
     "execution_count": 29,
     "metadata": {},
     "output_type": "execute_result"
    },
    {
     "data": {
      "image/png": "[encoded data removed]",
      "text/plain": [
       "<Figure size 432x288 with 1 Axes>"
      ]
     },
     "metadata": {
      "needs_background": "light"
     },
     "output_type": "display_data"
    }
   ],
   "source": [
    "tt = torch.linspace(-12,12,100)\n",
    "density_ratio = ndr.logit_r(tt.unsqueeze(-1))\n",
    "plt.plot(tt, density_ratio.detach().numpy())"
   ]
  },
  {
   "cell_type": "code",
   "execution_count": null,
   "id": "e16e4930",
   "metadata": {},
   "outputs": [],
   "source": []
  }
 ],
 "metadata": {
  "kernelspec": {
   "display_name": "Python 3 (ipykernel)",
   "language": "python",
   "name": "python3"
  },
  "language_info": {
   "codemirror_mode": {
    "name": "ipython",
    "version": 3
   },
   "file_extension": ".py",
   "mimetype": "text/x-python",
   "name": "python",
   "nbconvert_exporter": "python",
   "pygments_lexer": "ipython3",
   "version": "3.9.2"
  }
 },
 "nbformat": 4,
 "nbformat_minor": 5
}
